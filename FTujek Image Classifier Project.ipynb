{
 "cells": [
  {
   "cell_type": "markdown",
   "metadata": {},
   "source": [
    "# Developing an AI application\n",
    "\n",
    "Going forward, AI algorithms will be incorporated into more and more everyday applications. For example, you might want to include an image classifier in a smart phone app. To do this, you'd use a deep learning model trained on hundreds of thousands of images as part of the overall application architecture. A large part of software development in the future will be using these types of models as common parts of applications. \n",
    "\n",
    "In this project, you'll train an image classifier to recognize different species of flowers. You can imagine using something like this in a phone app that tells you the name of the flower your camera is looking at. In practice you'd train this classifier, then export it for use in your application. We'll be using [this dataset](http://www.robots.ox.ac.uk/~vgg/data/flowers/102/index.html) of 102 flower categories, you can see a few examples below. \n",
    "\n",
    "<img src='assets/Flowers.png' width=500px>\n",
    "\n",
    "The project is broken down into multiple steps:\n",
    "\n",
    "* Load and preprocess the image dataset\n",
    "* Train the image classifier on your dataset\n",
    "* Use the trained classifier to predict image content\n",
    "\n",
    "We'll lead you through each part which you'll implement in Python.\n",
    "\n",
    "When you've completed this project, you'll have an application that can be trained on any set of labeled images. Here your network will be learning about flowers and end up as a command line application. But, what you do with your new skills depends on your imagination and effort in building a dataset. For example, imagine an app where you take a picture of a car, it tells you what the make and model is, then looks up information about it. Go build your own dataset and make something new.\n",
    "\n",
    "First up is importing the packages you'll need. It's good practice to keep all the imports at the beginning of your code. As you work through this notebook and find you need to import a package, make sure to add the import up here."
   ]
  },
  {
   "cell_type": "code",
   "execution_count": 39,
   "metadata": {},
   "outputs": [],
   "source": [
    "#My plan\n",
    "    #PREP:\n",
    "    #Save all documents on my computers\n",
    "    #Print instructions\n",
    "    #Import packages\n",
    "\n",
    "    #PREPARE PICTURES:\n",
    "    #reformat the pictures & Create a loader (see \"Loading Image Data\" in \"Deep Learning with PyTorch\")\n",
    "    #Link pics with labels\n",
    "\n",
    "    #TRAIN A MODEL (see \"Transfer Learning II\" \"Deep Learning with PyTorch\")\n",
    "    #Select a model from torchvision (VGG16)\n",
    "    #Freeze\n",
    "    #Create my model\n",
    "    #Train the model\n",
    "    #Test model (check \"Transfer Learning Solution\" video)\n"
   ]
  },
  {
   "cell_type": "code",
   "execution_count": 13,
   "metadata": {},
   "outputs": [],
   "source": [
    "# All my imports\n",
    "import torch\n",
    "import torchvision\n",
    "import torchvision.transforms as transforms\n",
    "from torch import nn, optim\n",
    "from torch.utils.data import DataLoader, Dataset\n",
    "from PIL import Image\n",
    "import matplotlib.pyplot as plt\n",
    "import numpy as np\n",
    "import pandas as pd\n",
    "from torchvision import datasets, transforms\n",
    "from torch.utils.data import DataLoader\n",
    "import torchvision.models as models\n",
    "\n",
    "\n"
   ]
  },
  {
   "cell_type": "markdown",
   "metadata": {},
   "source": [
    "## Load the data\n",
    "\n",
    "Here you'll use `torchvision` to load the data ([documentation](http://pytorch.org/docs/0.3.0/torchvision/index.html)). The data should be included alongside this notebook, otherwise you can [download it here](https://s3.amazonaws.com/content.udacity-data.com/nd089/flower_data.tar.gz). The dataset is split into three parts, training, validation, and testing. For the training, you'll want to apply transformations such as random scaling, cropping, and flipping. This will help the network generalize leading to better performance. You'll also need to make sure the input data is resized to 224x224 pixels as required by the pre-trained networks.\n",
    "\n",
    "The validation and testing sets are used to measure the model's performance on data it hasn't seen yet. For this you don't want any scaling or rotation transformations, but you'll need to resize then crop the images to the appropriate size.\n",
    "\n",
    "The pre-trained networks you'll use were trained on the ImageNet dataset where each color channel was normalized separately. For all three sets you'll need to normalize the means and standard deviations of the images to what the network expects. For the means, it's `[0.485, 0.456, 0.406]` and for the standard deviations `[0.229, 0.224, 0.225]`, calculated from the ImageNet images.  These values will shift each color channel to be centered at 0 and range from -1 to 1.\n",
    " "
   ]
  },
  {
   "cell_type": "code",
   "execution_count": 14,
   "metadata": {},
   "outputs": [],
   "source": [
    "data_dir = r'C:\\Users\\franc\\Documents\\Python\\Image Classifier Project\\Documents provided\\flower_data'\n",
    "train_dir = data_dir + r'\\train'\n",
    "valid_dir = data_dir + r'\\valid'\n",
    "test_dir = data_dir + r'\\test'\n"
   ]
  },
  {
   "cell_type": "code",
   "execution_count": 15,
   "metadata": {},
   "outputs": [],
   "source": [
    "# DONE: Define your transforms for the training, validation, and testing sets\n",
    "data_transforms = {\n",
    "    'train': transforms.Compose([\n",
    "        transforms.RandomResizedCrop(224),\n",
    "        transforms.RandomHorizontalFlip(),\n",
    "        transforms.ToTensor(),\n",
    "        transforms.Normalize([0.485, 0.456, 0.406], [0.229, 0.224, 0.225])]),\n",
    "    \n",
    "    'valid': transforms.Compose([\n",
    "        transforms.Resize(256),\n",
    "        transforms.CenterCrop(224),\n",
    "        transforms.ToTensor(),\n",
    "        transforms.Normalize([0.485, 0.456, 0.406], [0.229, 0.224, 0.225])]),\n",
    "    \n",
    "    'test': transforms.Compose([\n",
    "        transforms.Resize(256),\n",
    "        transforms.CenterCrop(224),\n",
    "        transforms.ToTensor(),\n",
    "        transforms.Normalize([0.485, 0.456, 0.406], [0.229, 0.224, 0.225])]),}\n",
    "\n",
    "# DONE: Load the datasets with ImageFolder\n",
    "image_datasets = {\n",
    "    'train': datasets.ImageFolder(train_dir, transform=data_transforms['train']),\n",
    "    'valid': datasets.ImageFolder(valid_dir, transform=data_transforms['valid']),\n",
    "    'test': datasets.ImageFolder(test_dir, transform=data_transforms['test']),}\n",
    "\n",
    "# DONE: Using the image datasets and the transforms, define the dataloaders\n",
    "dataloaders = {\n",
    "    'train': DataLoader(image_datasets['train'], batch_size=64, shuffle=True),\n",
    "    'valid': DataLoader(image_datasets['valid'], batch_size=32),\n",
    "    'test': DataLoader(image_datasets['test'], batch_size=32),}\n"
   ]
  },
  {
   "cell_type": "code",
   "execution_count": 16,
   "metadata": {},
   "outputs": [
    {
     "name": "stdout",
     "output_type": "stream",
     "text": [
      "6552\n",
      "818\n",
      "819\n"
     ]
    }
   ],
   "source": [
    "# DONE: Test my dataloaders\n",
    "\n",
    "numbers_train = len(dataloaders['train'].dataset)\n",
    "print(numbers_train)\n",
    "\n",
    "numbers_valid = len(dataloaders['valid'].dataset)\n",
    "print(numbers_valid)\n",
    "\n",
    "numbers_test = len(dataloaders['test'].dataset)\n",
    "print(numbers_test)\n"
   ]
  },
  {
   "cell_type": "code",
   "execution_count": 17,
   "metadata": {},
   "outputs": [
    {
     "name": "stdout",
     "output_type": "stream",
     "text": [
      "102\n"
     ]
    }
   ],
   "source": [
    "# DONE: Check the size of my dataset\n",
    "num_classes = len(image_datasets['train'].class_to_idx)\n",
    "print(num_classes)"
   ]
  },
  {
   "cell_type": "markdown",
   "metadata": {},
   "source": [
    "### Label mapping\n",
    "\n",
    "You'll also need to load in a mapping from category label to category name. You can find this in the file `cat_to_name.json`. It's a JSON object which you can read in with the [`json` module](https://docs.python.org/2/library/json.html). This will give you a dictionary mapping the integer encoded categories to the actual names of the flowers."
   ]
  },
  {
   "cell_type": "code",
   "execution_count": 18,
   "metadata": {},
   "outputs": [],
   "source": [
    "import json\n",
    "\n",
    "# DONE: Load the label mapping from my directory\n",
    "file_path = r'C:\\Users\\franc\\Documents\\Python\\Image Classifier Project\\Documents provided\\cat_to_name.json'\n",
    "\n",
    "with open(file_path, 'r') as f:\n",
    "    cat_to_name = json.load(f)"
   ]
  },
  {
   "cell_type": "markdown",
   "metadata": {},
   "source": [
    "# Building and training the classifier\n",
    "\n",
    "Now that the data is ready, it's time to build and train the classifier. As usual, you should use one of the pretrained models from `torchvision.models` to get the image features. Build and train a new feed-forward classifier using those features.\n",
    "\n",
    "We're going to leave this part up to you. Refer to [the rubric](https://review.udacity.com/#!/rubrics/1663/view) for guidance on successfully completing this section. Things you'll need to do:\n",
    "\n",
    "* Load a [pre-trained network](http://pytorch.org/docs/master/torchvision/models.html) (If you need a starting point, the VGG networks work great and are straightforward to use)\n",
    "* Define a new, untrained feed-forward network as a classifier, using ReLU activations and dropout\n",
    "* Train the classifier layers using backpropagation using the pre-trained network to get the features\n",
    "* Track the loss and accuracy on the validation set to determine the best hyperparameters\n",
    "\n",
    "We've left a cell open for you below, but use as many as you need. Our advice is to break the problem up into smaller parts you can run separately. Check that each part is doing what you expect, then move on to the next. You'll likely find that as you work through each part, you'll need to go back and modify your previous code. This is totally normal!\n",
    "\n",
    "When training make sure you're updating only the weights of the feed-forward network. You should be able to get the validation accuracy above 70% if you build everything right. Make sure to try different hyperparameters (learning rate, units in the classifier, epochs, etc) to find the best model. Save those hyperparameters to use as default values in the next part of the project.\n",
    "\n",
    "One last important tip if you're using the workspace to run your code: To avoid having your workspace disconnect during the long-running tasks in this notebook, please read in the earlier page in this lesson called Intro to\n",
    "GPU Workspaces about Keeping Your Session Active. You'll want to include code from the workspace_utils.py module.\n",
    "\n",
    "**Note for Workspace users:** If your network is over 1 GB when saved as a checkpoint, there might be issues with saving backups in your workspace. Typically this happens with wide dense layers after the convolutional layers. If your saved checkpoint is larger than 1 GB (you can open a terminal and check with `ls -lh`), you should reduce the size of your hidden layers and train again."
   ]
  },
  {
   "cell_type": "code",
   "execution_count": 19,
   "metadata": {},
   "outputs": [],
   "source": [
    "# DONE: Build and train your network\n",
    "\n",
    "# Load VGG16 model\n",
    "model = models.vgg16(pretrained=True)"
   ]
  },
  {
   "cell_type": "code",
   "execution_count": 14,
   "metadata": {},
   "outputs": [
    {
     "name": "stdout",
     "output_type": "stream",
     "text": [
      "VGG(\n",
      "  (features): Sequential(\n",
      "    (0): Conv2d(3, 64, kernel_size=(3, 3), stride=(1, 1), padding=(1, 1))\n",
      "    (1): ReLU(inplace=True)\n",
      "    (2): Conv2d(64, 64, kernel_size=(3, 3), stride=(1, 1), padding=(1, 1))\n",
      "    (3): ReLU(inplace=True)\n",
      "    (4): MaxPool2d(kernel_size=2, stride=2, padding=0, dilation=1, ceil_mode=False)\n",
      "    (5): Conv2d(64, 128, kernel_size=(3, 3), stride=(1, 1), padding=(1, 1))\n",
      "    (6): ReLU(inplace=True)\n",
      "    (7): Conv2d(128, 128, kernel_size=(3, 3), stride=(1, 1), padding=(1, 1))\n",
      "    (8): ReLU(inplace=True)\n",
      "    (9): MaxPool2d(kernel_size=2, stride=2, padding=0, dilation=1, ceil_mode=False)\n",
      "    (10): Conv2d(128, 256, kernel_size=(3, 3), stride=(1, 1), padding=(1, 1))\n",
      "    (11): ReLU(inplace=True)\n",
      "    (12): Conv2d(256, 256, kernel_size=(3, 3), stride=(1, 1), padding=(1, 1))\n",
      "    (13): ReLU(inplace=True)\n",
      "    (14): Conv2d(256, 256, kernel_size=(3, 3), stride=(1, 1), padding=(1, 1))\n",
      "    (15): ReLU(inplace=True)\n",
      "    (16): MaxPool2d(kernel_size=2, stride=2, padding=0, dilation=1, ceil_mode=False)\n",
      "    (17): Conv2d(256, 512, kernel_size=(3, 3), stride=(1, 1), padding=(1, 1))\n",
      "    (18): ReLU(inplace=True)\n",
      "    (19): Conv2d(512, 512, kernel_size=(3, 3), stride=(1, 1), padding=(1, 1))\n",
      "    (20): ReLU(inplace=True)\n",
      "    (21): Conv2d(512, 512, kernel_size=(3, 3), stride=(1, 1), padding=(1, 1))\n",
      "    (22): ReLU(inplace=True)\n",
      "    (23): MaxPool2d(kernel_size=2, stride=2, padding=0, dilation=1, ceil_mode=False)\n",
      "    (24): Conv2d(512, 512, kernel_size=(3, 3), stride=(1, 1), padding=(1, 1))\n",
      "    (25): ReLU(inplace=True)\n",
      "    (26): Conv2d(512, 512, kernel_size=(3, 3), stride=(1, 1), padding=(1, 1))\n",
      "    (27): ReLU(inplace=True)\n",
      "    (28): Conv2d(512, 512, kernel_size=(3, 3), stride=(1, 1), padding=(1, 1))\n",
      "    (29): ReLU(inplace=True)\n",
      "    (30): MaxPool2d(kernel_size=2, stride=2, padding=0, dilation=1, ceil_mode=False)\n",
      "  )\n",
      "  (avgpool): AdaptiveAvgPool2d(output_size=(7, 7))\n",
      "  (classifier): Sequential(\n",
      "    (0): Linear(in_features=25088, out_features=4096, bias=True)\n",
      "    (1): ReLU(inplace=True)\n",
      "    (2): Dropout(p=0.5, inplace=False)\n",
      "    (3): Linear(in_features=4096, out_features=4096, bias=True)\n",
      "    (4): ReLU(inplace=True)\n",
      "    (5): Dropout(p=0.5, inplace=False)\n",
      "    (6): Linear(in_features=4096, out_features=1000, bias=True)\n",
      "  )\n",
      ")\n"
     ]
    }
   ],
   "source": [
    "# Check my model loaded correctly\n",
    "print(model)"
   ]
  },
  {
   "cell_type": "code",
   "execution_count": 20,
   "metadata": {},
   "outputs": [],
   "source": [
    "# Freezing VGG16 original parameters\n",
    "for original_param in model.parameters():\n",
    "    original_param.requires_grad = False"
   ]
  },
  {
   "cell_type": "code",
   "execution_count": 21,
   "metadata": {},
   "outputs": [],
   "source": [
    "# Create my new classifier\n",
    "model.classifier = nn.Sequential(\n",
    "    nn.Linear(25088, 4096),  # Adjust input 7*7*512\n",
    "    nn.ReLU(), # Activate\n",
    "    nn.Dropout(0.5), # Prevent overfitting of my model\n",
    "    nn.Linear(4096, 102),  # Match my number of classes\n",
    "    nn.LogSoftmax(dim=1)\n",
    ")\n"
   ]
  },
  {
   "cell_type": "code",
   "execution_count": 22,
   "metadata": {},
   "outputs": [
    {
     "name": "stdout",
     "output_type": "stream",
     "text": [
      "Sequential(\n",
      "  (0): Linear(in_features=25088, out_features=4096, bias=True)\n",
      "  (1): ReLU()\n",
      "  (2): Dropout(p=0.5, inplace=False)\n",
      "  (3): Linear(in_features=4096, out_features=102, bias=True)\n",
      "  (4): LogSoftmax(dim=1)\n",
      ")\n"
     ]
    }
   ],
   "source": [
    "# Check my new classifier\n",
    "print(model.classifier)"
   ]
  },
  {
   "cell_type": "code",
   "execution_count": 23,
   "metadata": {},
   "outputs": [
    {
     "name": "stdout",
     "output_type": "stream",
     "text": [
      "Epoch 1/10 - Training loss: 7.634 - Validation loss: 2.066\n",
      "Epoch 2/10 - Training loss: 2.976 - Validation loss: 1.656\n",
      "Epoch 3/10 - Training loss: 2.784 - Validation loss: 1.433\n",
      "Epoch 4/10 - Training loss: 2.699 - Validation loss: 1.513\n",
      "Epoch 5/10 - Training loss: 2.654 - Validation loss: 1.330\n",
      "Epoch 6/10 - Training loss: 2.558 - Validation loss: 1.246\n",
      "Epoch 7/10 - Training loss: 2.575 - Validation loss: 1.348\n",
      "Epoch 8/10 - Training loss: 2.523 - Validation loss: 1.253\n",
      "Epoch 9/10 - Training loss: 2.519 - Validation loss: 1.287\n",
      "Epoch 10/10 - Training loss: 2.499 - Validation loss: 1.221\n"
     ]
    }
   ],
   "source": [
    "# Select GPU or CPU (Udacity GPU doesn't work!)\n",
    "device = torch.device(\"cuda\" if torch.cuda.is_available() else \"cpu\")\n",
    "model.to(device)\n",
    "\n",
    "# Write the Loss function\n",
    "criterion = nn.NLLLoss()\n",
    "\n",
    "# Define the optimizer\n",
    "optimizer = optim.Adam(model.classifier.parameters(), lr=0.003)\n",
    "\n",
    "# Set the number of epochs\n",
    "epochs = 10\n",
    "for epoch in range(epochs):\n",
    "    model.train()  # Set to training mode\n",
    "    running_loss = 0\n",
    "    \n",
    "    for inputs, labels in dataloaders['train']:\n",
    "        inputs, labels = inputs.to(device), labels.to(device)\n",
    "        \n",
    "        # Zero the gradients\n",
    "        optimizer.zero_grad()\n",
    "        \n",
    "        # Forward pass\n",
    "        outputs = model(inputs)\n",
    "        \n",
    "        # Calculate the loss\n",
    "        loss = criterion(outputs, labels)\n",
    "        \n",
    "        # Backward pass\n",
    "        loss.backward()\n",
    "        \n",
    "        # Perform a single optimization step\n",
    "        optimizer.step()\n",
    "        \n",
    "        running_loss += loss.item()\n",
    "    \n",
    "    # Validation\n",
    "    model.eval()  # Set to evaluation mode\n",
    "    validation_loss = 0\n",
    "    \n",
    "    with torch.no_grad():\n",
    "        for inputs, labels in dataloaders['valid']:\n",
    "            inputs, labels = inputs.to(device), labels.to(device)\n",
    "            outputs = model(inputs)\n",
    "            loss = criterion(outputs, labels)\n",
    "            validation_loss += loss.item()\n",
    "    \n",
    "    # Print out the average loss per epoch\n",
    "    print(f\"Epoch {epoch+1}/{epochs} - Training loss: {running_loss/len(dataloaders['train']):.3f} - Validation loss: {validation_loss/len(dataloaders['valid']):.3f}\")\n"
   ]
  },
  {
   "cell_type": "markdown",
   "metadata": {},
   "source": [
    "## Testing your network\n",
    "\n",
    "It's good practice to test your trained network on test data, images the network has never seen either in training or validation. This will give you a good estimate for the model's performance on completely new images. Run the test images through the network and measure the accuracy, the same way you did validation. You should be able to reach around 70% accuracy on the test set if the model has been trained well."
   ]
  },
  {
   "cell_type": "code",
   "execution_count": 24,
   "metadata": {},
   "outputs": [
    {
     "name": "stdout",
     "output_type": "stream",
     "text": [
      "Test Accuracy: 0.646\n"
     ]
    }
   ],
   "source": [
    "#DONE: Test my model\n",
    "\n",
    "# evaluation mode\n",
    "model.eval()\n",
    "\n",
    "# Initialize variables to track accuracy\n",
    "correct = 0\n",
    "total = 0\n",
    "\n",
    "# Go through the test dataset\n",
    "with torch.no_grad():\n",
    "    for inputs, labels in dataloaders['test']:\n",
    "        # Move data to the appropriate device\n",
    "        inputs, labels = inputs.to(device), labels.to(device)\n",
    "        \n",
    "        # Forward pass\n",
    "        outputs = model(inputs)\n",
    "        \n",
    "        # Probabilities\n",
    "        ps = torch.exp(outputs)\n",
    "        \n",
    "        # Top class and probability per image\n",
    "        top_p, top_class = ps.topk(1, dim=1)\n",
    "        \n",
    "        # Check predicted class matches the true labels\n",
    "        equals = top_class == labels.view(*top_class.shape)\n",
    "        \n",
    "        # Increment correct count \n",
    "        correct += equals.sum().item()\n",
    "        \n",
    "        # Increment total count\n",
    "        total += labels.size(0)\n",
    "\n",
    "# Calculate accuracy\n",
    "accuracy = correct / total\n",
    "\n",
    "# Print accuracy\n",
    "print(f\"Test Accuracy: {accuracy:.3f}\")\n"
   ]
  },
  {
   "cell_type": "markdown",
   "metadata": {},
   "source": [
    "## Save the checkpoint\n",
    "\n",
    "Now that your network is trained, save the model so you can load it later for making predictions. You probably want to save other things such as the mapping of classes to indices which you get from one of the image datasets: `image_datasets['train'].class_to_idx`. You can attach this to the model as an attribute which makes inference easier later on.\n",
    "\n",
    "```model.class_to_idx = image_datasets['train'].class_to_idx```\n",
    "\n",
    "Remember that you'll want to completely rebuild the model later so you can use it for inference. Make sure to include any information you need in the checkpoint. If you want to load the model and keep training, you'll want to save the number of epochs as well as the optimizer state, `optimizer.state_dict`. You'll likely want to use this trained model in the next part of the project, so best to save it now."
   ]
  },
  {
   "cell_type": "code",
   "execution_count": 43,
   "metadata": {},
   "outputs": [],
   "source": [
    "# Create dictionary\n",
    "checkpoint = {\n",
    "    'model_state_dict': model.state_dict(),\n",
    "    'class_to_idx': image_datasets['train'].class_to_idx,\n",
    "    'num_classes': len(image_datasets['train'].classes),  # Add number of classes\n",
    "    'epochs': epochs,\n",
    "    'optimizer_state_dict': optimizer.state_dict()\n",
    "}\n",
    "\n",
    "# Add classifier information to the checkpoint\n",
    "if 'classifier' not in checkpoint['model_state_dict']:\n",
    "    checkpoint['model_state_dict']['classifier'] = model.classifier.state_dict()\n",
    "\n",
    "# Save checkpoint\n",
    "torch.save(checkpoint, checkpoint_path)\n",
    "\n"
   ]
  },
  {
   "cell_type": "markdown",
   "metadata": {},
   "source": [
    "## Loading the checkpoint\n",
    "\n",
    "At this point it's good to write a function that can load a checkpoint and rebuild the model. That way you can come back to this project and keep working on it without having to retrain the network."
   ]
  },
  {
   "cell_type": "code",
   "execution_count": 47,
   "metadata": {},
   "outputs": [],
   "source": [
    "def load_checkpoint(filepath):\n",
    "    # Load the checkpoint\n",
    "    checkpoint = torch.load(filepath)\n",
    "    \n",
    "    # Rebuild architecture\n",
    "    model = models.vgg16(pretrained=True)\n",
    "\n",
    "    # Freeze parameters so we don't backprop through them\n",
    "    for param in model.parameters():\n",
    "        param.requires_grad = False\n",
    "\n",
    "    # Check the classifier architecture in the loaded checkpoint\n",
    "    classifier_checkpoint = checkpoint['model_state_dict']['classifier']\n",
    "    num_features_checkpoint = classifier_checkpoint[0].in_features\n",
    "    \n",
    "    # Check the classifier architecture in the current model\n",
    "    num_features_current = model.classifier[0].in_features\n",
    "    \n",
    "    # Ensure consistency in the architecture\n",
    "    if num_features_checkpoint != num_features_current:\n",
    "        raise ValueError(\"Classifier architecture mismatch between checkpoint and current model.\")\n",
    "    \n",
    "    # Define a new classifier with the correct number of output features\n",
    "    classifier = nn.Sequential(\n",
    "        nn.Linear(num_features_current, checkpoint['num_classes']),  # Use the number of classes from the checkpoint\n",
    "        nn.LogSoftmax(dim=1)\n",
    "    )\n",
    "\n",
    "    # Replace pretrained classifier with the new one\n",
    "    model.classifier = classifier\n",
    "\n",
    "    # Load the model state dictionary\n",
    "    model.load_state_dict(checkpoint['model_state_dict'])\n",
    "\n",
    "    # Attach class_to_idx attribute to the model\n",
    "    model.class_to_idx = checkpoint['class_to_idx']\n",
    "\n",
    "    return model\n"
   ]
  },
  {
   "cell_type": "code",
   "execution_count": 46,
   "metadata": {},
   "outputs": [
    {
     "name": "stdout",
     "output_type": "stream",
     "text": [
      "dict_keys(['model_state_dict', 'class_to_idx', 'num_classes', 'epochs', 'optimizer_state_dict'])\n"
     ]
    }
   ],
   "source": [
    "# Check my dictionary keys\n",
    "\n",
    "# Define the file path of the checkpoint\n",
    "filepath = 'Checkpoint1.pth'\n",
    "\n",
    "# Load the checkpoint\n",
    "checkpoint = torch.load(filepath)\n",
    "\n",
    "# Print dictionary keys\n",
    "print(checkpoint.keys())\n"
   ]
  },
  {
   "cell_type": "code",
   "execution_count": 48,
   "metadata": {},
   "outputs": [
    {
     "name": "stdout",
     "output_type": "stream",
     "text": [
      "odict_keys(['features.0.weight', 'features.0.bias', 'features.2.weight', 'features.2.bias', 'features.5.weight', 'features.5.bias', 'features.7.weight', 'features.7.bias', 'features.10.weight', 'features.10.bias', 'features.12.weight', 'features.12.bias', 'features.14.weight', 'features.14.bias', 'features.17.weight', 'features.17.bias', 'features.19.weight', 'features.19.bias', 'features.21.weight', 'features.21.bias', 'features.24.weight', 'features.24.bias', 'features.26.weight', 'features.26.bias', 'features.28.weight', 'features.28.bias', 'classifier.0.weight', 'classifier.0.bias', 'classifier'])\n"
     ]
    }
   ],
   "source": [
    "# Inspect my model\n",
    "import torch\n",
    "\n",
    "def load_checkpoint(filepath):\n",
    "    # Load the checkpoint\n",
    "    checkpoint = torch.load(filepath)\n",
    "    \n",
    "    # Extract the model state dictionary\n",
    "    model_state_dict = checkpoint['model_state_dict']\n",
    "    \n",
    "    return model_state_dict\n",
    "\n",
    "# Define path\n",
    "checkpoint_path = 'Checkpoint1.pth'\n",
    "\n",
    "# Load the model state dictionary from the checkpoint\n",
    "model_state_dict = load_checkpoint(checkpoint_path)\n",
    "\n",
    "# Inspect\n",
    "print(model_state_dict.keys())\n"
   ]
  },
  {
   "cell_type": "code",
   "execution_count": 43,
   "metadata": {},
   "outputs": [
    {
     "name": "stdout",
     "output_type": "stream",
     "text": [
      "OrderedDict([('0.weight', tensor([[-0.0062,  0.0028,  0.0018,  ...,  0.0009, -0.0044, -0.0033],\n",
      "        [ 0.0059,  0.0009, -0.0014,  ...,  0.0018,  0.0050,  0.0014],\n",
      "        [-0.0061, -0.0020,  0.0009,  ...,  0.0048,  0.0013,  0.0036],\n",
      "        ...,\n",
      "        [ 0.0016, -0.0037, -0.0005,  ..., -0.0029,  0.0035,  0.0055],\n",
      "        [ 0.0044, -0.0061, -0.0010,  ...,  0.0048,  0.0006,  0.0049],\n",
      "        [ 0.0029, -0.0004,  0.0048,  ..., -0.0048,  0.0047, -0.0040]])), ('0.bias', tensor([-4.5441e-04, -9.0557e-04, -6.1847e-03, -1.3936e-03,  4.1854e-03,\n",
      "         5.9010e-05, -2.1446e-03,  1.1804e-03,  2.8827e-03,  3.1699e-03,\n",
      "        -2.7115e-03,  4.9783e-03, -6.2008e-04, -3.1166e-03,  2.1098e-03,\n",
      "        -6.0772e-03, -2.6067e-03,  5.5824e-03, -6.2899e-03,  4.8329e-03,\n",
      "        -2.2479e-04,  3.1260e-03, -3.9603e-03, -2.9972e-03,  1.0121e-03,\n",
      "        -3.3027e-04,  1.9346e-03, -5.1745e-03, -5.1939e-03, -3.6060e-03,\n",
      "         1.6406e-03,  1.4117e-03,  4.9737e-03,  3.8285e-03,  6.8042e-04,\n",
      "        -4.4752e-03,  2.7101e-03,  3.2454e-03, -4.5063e-03, -5.9880e-03,\n",
      "        -4.6159e-03,  2.5377e-03, -4.5120e-03, -2.4570e-03, -4.8005e-03,\n",
      "         3.0663e-03,  5.9021e-03, -2.8673e-03, -3.9022e-03,  3.4219e-03,\n",
      "        -3.9942e-03,  5.8640e-04,  4.3818e-05, -3.3412e-03, -1.0085e-03,\n",
      "        -5.8800e-03,  4.1621e-03,  1.3083e-03,  5.2942e-03,  4.8460e-03,\n",
      "         1.0224e-03, -3.9816e-03,  4.6300e-03, -2.8431e-03,  1.9989e-03,\n",
      "        -4.8560e-03,  5.4902e-04,  2.9794e-03,  3.0656e-03, -5.0771e-03,\n",
      "         2.0706e-03,  5.1123e-03,  4.4263e-03,  5.5409e-03, -4.0951e-03,\n",
      "         1.1735e-03, -2.5092e-03,  1.4609e-03,  5.5434e-03,  4.0186e-03,\n",
      "         3.6326e-03, -4.9643e-03, -1.0553e-03, -1.2643e-03, -1.7815e-03,\n",
      "        -8.5602e-04,  3.6147e-03, -7.5008e-04, -1.0561e-03,  5.8286e-03,\n",
      "         5.7581e-03,  1.6520e-05,  4.4937e-04, -4.2352e-03,  1.5896e-03,\n",
      "         1.9052e-04,  4.9995e-03,  4.3310e-03, -3.3057e-03,  2.0486e-03,\n",
      "         1.3453e-03,  6.5118e-04]))])\n"
     ]
    }
   ],
   "source": [
    "# Check classifier\n",
    "print(model_state_dict['classifier'])\n"
   ]
  },
  {
   "cell_type": "code",
   "execution_count": 45,
   "metadata": {},
   "outputs": [
    {
     "name": "stdout",
     "output_type": "stream",
     "text": [
      "Number of input features for the new classifier: 25088\n"
     ]
    }
   ],
   "source": [
    "# Check input features\n",
    "num_features_checkpoint = model_state_dict['classifier']['0.weight'].size(1)\n",
    "print(\"Number of input features for the new classifier:\", num_features_checkpoint)\n"
   ]
  },
  {
   "cell_type": "code",
   "execution_count": 53,
   "metadata": {},
   "outputs": [],
   "source": [
    "import torch\n",
    "\n",
    "def load_checkpoint(checkpoint_path):\n",
    "    \"\"\"\n",
    "    Load a PyTorch model checkpoint.\n",
    "\n",
    "    Args:\n",
    "        checkpoint_path (str): Path to the checkpoint file.\n",
    "\n",
    "    Returns:\n",
    "        model: PyTorch model loaded from the checkpoint.\n",
    "    \"\"\"\n",
    "    # Load the checkpoint\n",
    "    checkpoint = torch.load(checkpoint_path)\n",
    "    \n",
    "    # Create the model instance\n",
    "    model = checkpoint\n",
    "    \n",
    "    return model\n",
    "\n",
    "# Usage:\n",
    "checkpoint_path = 'Checkpoint1.pth'\n",
    "model = load_checkpoint(checkpoint_path)\n"
   ]
  },
  {
   "cell_type": "markdown",
   "metadata": {},
   "source": [
    "# Inference for classification\n",
    "\n",
    "Now you'll write a function to use a trained network for inference. That is, you'll pass an image into the network and predict the class of the flower in the image. Write a function called `predict` that takes an image and a model, then returns the top $K$ most likely classes along with the probabilities. It should look like \n",
    "\n",
    "```python\n",
    "probs, classes = predict(image_path, model)\n",
    "print(probs)\n",
    "print(classes)\n",
    "> [ 0.01558163  0.01541934  0.01452626  0.01443549  0.01407339]\n",
    "> ['70', '3', '45', '62', '55']\n",
    "```\n",
    "\n",
    "First you'll need to handle processing the input image such that it can be used in your network. \n",
    "\n",
    "## Image Preprocessing\n",
    "\n",
    "You'll want to use `PIL` to load the image ([documentation](https://pillow.readthedocs.io/en/latest/reference/Image.html)). It's best to write a function that preprocesses the image so it can be used as input for the model. This function should process the images in the same manner used for training. \n",
    "\n",
    "First, resize the images where the shortest side is 256 pixels, keeping the aspect ratio. This can be done with the [`thumbnail`](http://pillow.readthedocs.io/en/3.1.x/reference/Image.html#PIL.Image.Image.thumbnail) or [`resize`](http://pillow.readthedocs.io/en/3.1.x/reference/Image.html#PIL.Image.Image.thumbnail) methods. Then you'll need to crop out the center 224x224 portion of the image.\n",
    "\n",
    "Color channels of images are typically encoded as integers 0-255, but the model expected floats 0-1. You'll need to convert the values. It's easiest with a Numpy array, which you can get from a PIL image like so `np_image = np.array(pil_image)`.\n",
    "\n",
    "As before, the network expects the images to be normalized in a specific way. For the means, it's `[0.485, 0.456, 0.406]` and for the standard deviations `[0.229, 0.224, 0.225]`. You'll want to subtract the means from each color channel, then divide by the standard deviation. \n",
    "\n",
    "And finally, PyTorch expects the color channel to be the first dimension but it's the third dimension in the PIL image and Numpy array. You can reorder dimensions using [`ndarray.transpose`](https://docs.scipy.org/doc/numpy-1.13.0/reference/generated/numpy.ndarray.transpose.html). The color channel needs to be first and retain the order of the other two dimensions."
   ]
  },
  {
   "cell_type": "code",
   "execution_count": 60,
   "metadata": {},
   "outputs": [],
   "source": [
    "from torchvision import transforms\n",
    "from PIL import Image\n",
    "import numpy as np\n",
    "\n",
    "def process_image(image):\n",
    "    ''' Scales, crops, and normalizes a PIL image for a PyTorch model,\n",
    "        returns an Numpy array\n",
    "    '''\n",
    "    \n",
    "    # DONE: Process a PIL image for use in a PyTorch model\n",
    "    preprocess = transforms.Compose([\n",
    "        transforms.Resize(256),\n",
    "        transforms.CenterCrop(224),\n",
    "        transforms.ToTensor(),\n",
    "        transforms.Normalize(mean=[0.485, 0.456, 0.406], std=[0.229, 0.224, 0.225])\n",
    "    ])\n",
    "    \n",
    "    # Open the image\n",
    "    pil_image = Image.open(image)\n",
    "    \n",
    "    # Apply the transformations\n",
    "    img_tensor = preprocess(pil_image)\n",
    "    \n",
    "    # Convert the tensor to a NumPy array\n",
    "    np_image = np.array(img_tensor)\n",
    "    \n",
    "    return np_image\n"
   ]
  },
  {
   "cell_type": "code",
   "execution_count": 61,
   "metadata": {},
   "outputs": [
    {
     "name": "stdout",
     "output_type": "stream",
     "text": [
      "(3, 224, 224)\n"
     ]
    }
   ],
   "source": [
    "# Test my function\n",
    "image_path = 'Rosepicture.jpg'\n",
    "processed_image = process_image(image_path)\n",
    "print(processed_image.shape)  # Check the shape of the processed image\n"
   ]
  },
  {
   "cell_type": "code",
   "execution_count": null,
   "metadata": {},
   "outputs": [],
   "source": [
    "To check your work, the function below converts a PyTorch tensor and displays it in the notebook. If your `process_image` function works, running the output through this function should return the original image (except for the cropped out portions)."
   ]
  },
  {
   "cell_type": "code",
   "execution_count": 64,
   "metadata": {},
   "outputs": [],
   "source": [
    "import matplotlib.pyplot as plt\n",
    "import numpy as np\n",
    "\n",
    "def imshow(image, ax=None, title=None):\n",
    "    \"\"\"Imshow for Tensor.\"\"\"\n",
    "    if ax is None:\n",
    "        fig, ax = plt.subplots()\n",
    "    \n",
    "    # Undo normalization\n",
    "    mean = np.array([0.485, 0.456, 0.406])\n",
    "    std = np.array([0.229, 0.224, 0.225])\n",
    "    \n",
    "    # Transpose the image to correct dimensions\n",
    "    image = image.transpose((1, 2, 0))\n",
    "    \n",
    "    # Undo preprocessing\n",
    "    image = std * image + mean\n",
    "    \n",
    "    # Clip the image\n",
    "    image = np.clip(image, 0, 1)\n",
    "    \n",
    "    ax.imshow(image)\n",
    "    ax.axis('off')  # Turn off axis\n",
    "    \n",
    "    return ax\n"
   ]
  },
  {
   "cell_type": "code",
   "execution_count": null,
   "metadata": {},
   "outputs": [],
   "source": [
    "imshow(processed_image)\n",
    "plt.show()\n"
   ]
  },
  {
   "cell_type": "markdown",
   "metadata": {},
   "source": [
    "## Class Prediction\n",
    "\n",
    "Once you can get images in the correct format, it's time to write a function for making predictions with your model. A common practice is to predict the top 5 or so (usually called top-$K$) most probable classes. You'll want to calculate the class probabilities then find the $K$ largest values.\n",
    "\n",
    "To get the top $K$ largest values in a tensor use [`x.topk(k)`](http://pytorch.org/docs/master/torch.html#torch.topk). This method returns both the highest `k` probabilities and the indices of those probabilities corresponding to the classes. You need to convert from these indices to the actual class labels using `class_to_idx` which hopefully you added to the model or from an `ImageFolder` you used to load the data ([see here](#Save-the-checkpoint)). Make sure to invert the dictionary so you get a mapping from index to class as well.\n",
    "\n",
    "Again, this method should take a path to an image and a model checkpoint, then return the probabilities and classes.\n",
    "\n",
    "```python\n",
    "probs, classes = predict(image_path, model)\n",
    "print(probs)\n",
    "print(classes)\n",
    "> [ 0.01558163  0.01541934  0.01452626  0.01443549  0.01407339]\n",
    "> ['70', '3', '45', '62', '55']\n",
    "```"
   ]
  },
  {
   "cell_type": "code",
   "execution_count": null,
   "metadata": {},
   "outputs": [],
   "source": [
    "def predict(image_path, model, topk=5):\n",
    "    ''' Predict the class (or classes) of an image using a trained deep learning model.\n",
    "    '''\n",
    "    \n",
    "    # TODO: Implement the code to predict the class from an image file"
   ]
  },
  {
   "cell_type": "markdown",
   "metadata": {},
   "source": [
    "## Sanity Checking\n",
    "\n",
    "Now that you can use a trained model for predictions, check to make sure it makes sense. Even if the testing accuracy is high, it's always good to check that there aren't obvious bugs. Use `matplotlib` to plot the probabilities for the top 5 classes as a bar graph, along with the input image. It should look like this:\n",
    "\n",
    "<img src='assets/inference_example.png' width=300px>\n",
    "\n",
    "You can convert from the class integer encoding to actual flower names with the `cat_to_name.json` file (should have been loaded earlier in the notebook). To show a PyTorch tensor as an image, use the `imshow` function defined above."
   ]
  },
  {
   "cell_type": "code",
   "execution_count": null,
   "metadata": {},
   "outputs": [],
   "source": [
    "# TODO: Display an image along with the top 5 classes"
   ]
  }
 ],
 "metadata": {
  "kernelspec": {
   "display_name": "Python 3 (ipykernel)",
   "language": "python",
   "name": "python3"
  },
  "language_info": {
   "codemirror_mode": {
    "name": "ipython",
    "version": 3
   },
   "file_extension": ".py",
   "mimetype": "text/x-python",
   "name": "python",
   "nbconvert_exporter": "python",
   "pygments_lexer": "ipython3",
   "version": "3.11.5"
  }
 },
 "nbformat": 4,
 "nbformat_minor": 4
}
